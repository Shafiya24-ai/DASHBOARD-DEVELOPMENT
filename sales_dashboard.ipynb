{
 "cells": [
  {
   "cell_type": "code",
   "execution_count": 3,
   "id": "2bde4c26-26dc-4a85-8887-b5ae1de2fa79",
   "metadata": {},
   "outputs": [
    {
     "data": {
      "text/html": [
       "\n",
       "        <iframe\n",
       "            width=\"100%\"\n",
       "            height=\"650\"\n",
       "            src=\"http://127.0.0.1:8050/\"\n",
       "            frameborder=\"0\"\n",
       "            allowfullscreen\n",
       "            \n",
       "        ></iframe>\n",
       "        "
      ],
      "text/plain": [
       "<IPython.lib.display.IFrame at 0x1bc1c2fb2d0>"
      ]
     },
     "metadata": {},
     "output_type": "display_data"
    }
   ],
   "source": [
    "import pandas as pd\n",
    "import dash\n",
    "from dash import dcc, html\n",
    "from dash.dependencies import Input, Output\n",
    "import plotly.express as px\n",
    "\n",
    "# Load Dataset\n",
    "df = pd.read_csv(r\"C:\\Users\\Shaik Shafiya\\Downloads\\sample_sales_data.csv\")\n",
    "\n",
    "\n",
    "# Basic Data Preprocessing\n",
    "df['Sales'] = df['Sales'].astype(float)\n",
    "df['Revenue'] = df['Sales'] * df['ProfitMargin']\n",
    "df['Date'] = pd.to_datetime(df['Date'])\n",
    "df['Month'] = df['Date'].dt.to_period('M').astype(str)\n",
    "\n",
    "# Initialize Dash App\n",
    "app = dash.Dash(__name__)\n",
    "app.title = \"Sales Analytics Dashboard\"\n",
    "\n",
    "# Layout\n",
    "app.layout = html.Div([\n",
    "    html.H1(\" Sales Data Analytics Dashboard\", style={'textAlign': 'center'}),\n",
    "\n",
    "    dcc.Dropdown(\n",
    "        id='region-dropdown',\n",
    "        options=[{'label': region, 'value': region} for region in df['Region'].unique()],\n",
    "        value=df['Region'].unique()[0],\n",
    "        clearable=False\n",
    "    ),\n",
    "\n",
    "    dcc.Graph(id='sales-over-time'),\n",
    "\n",
    "    dcc.Graph(id='top-products'),\n",
    "\n",
    "    dcc.Graph(id='revenue-by-category'),\n",
    "\n",
    "    html.Div(id='summary-stats', style={'marginTop': 20})\n",
    "])\n",
    "\n",
    "# Callbacks\n",
    "@app.callback(\n",
    "    [Output('sales-over-time', 'figure'),\n",
    "     Output('top-products', 'figure'),\n",
    "     Output('revenue-by-category', 'figure'),\n",
    "     Output('summary-stats', 'children')],\n",
    "    [Input('region-dropdown', 'value')]\n",
    ")\n",
    "def update_dashboard(selected_region):\n",
    "    filtered_df = df[df['Region'] == selected_region]\n",
    "\n",
    "    # Sales over time\n",
    "    fig1 = px.line(filtered_df.groupby('Month')['Sales'].sum().reset_index(),\n",
    "                   x='Month', y='Sales', title='Monthly Sales Trend')\n",
    "\n",
    "    # Top products\n",
    "    top_products = filtered_df.groupby('Product')['Sales'].sum().nlargest(10).reset_index()\n",
    "    fig2 = px.bar(top_products, x='Product', y='Sales', title='Top 10 Products')\n",
    "\n",
    "    # Revenue by Category\n",
    "    rev_cat = filtered_df.groupby('Category')['Revenue'].sum().reset_index()\n",
    "    fig3 = px.pie(rev_cat, names='Category', values='Revenue', title='Revenue Share by Category')\n",
    "\n",
    "    # Summary\n",
    "    total_sales = filtered_df['Sales'].sum()\n",
    "    avg_margin = filtered_df['ProfitMargin'].mean()\n",
    "    summary = html.Div([\n",
    "        html.H4(f\"Total Sales in {selected_region}: ${total_sales:,.2f}\"),\n",
    "        html.H4(f\"Average Profit Margin: {avg_margin:.2%}\")\n",
    "    ])\n",
    "\n",
    "    return fig1, fig2, fig3, summary\n",
    "\n",
    "# Run App\n",
    "if __name__ == '__main__':\n",
    "    app.run(debug=True)\n"
   ]
  },
  {
   "cell_type": "code",
   "execution_count": null,
   "id": "2e7b181a-c31e-4bb9-b1a4-6c3e368a3366",
   "metadata": {},
   "outputs": [],
   "source": []
  }
 ],
 "metadata": {
  "kernelspec": {
   "display_name": "tfkernel",
   "language": "python",
   "name": "tfkernel"
  },
  "language_info": {
   "codemirror_mode": {
    "name": "ipython",
    "version": 3
   },
   "file_extension": ".py",
   "mimetype": "text/x-python",
   "name": "python",
   "nbconvert_exporter": "python",
   "pygments_lexer": "ipython3",
   "version": "3.11.9"
  }
 },
 "nbformat": 4,
 "nbformat_minor": 5
}
